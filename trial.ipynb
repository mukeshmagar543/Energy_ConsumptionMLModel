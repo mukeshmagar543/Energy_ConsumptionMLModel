{
 "cells": [
  {
   "cell_type": "code",
   "execution_count": 1,
   "id": "abfae5bd",
   "metadata": {},
   "outputs": [],
   "source": [
    "# Import Data Manipulation Libraries\n",
    "import numpy as np\n",
    "import pandas as pd\n",
    "\n",
    "# Import Data Visualization Libraries\n",
    "import matplotlib.pyplot as plt\n",
    "import seaborn as sns\n",
    "\n",
    "# Import Warning Libraries\n",
    "import warnings\n",
    "warnings.filterwarnings('ignore')\n",
    "\n",
    "# iImport Logging Libraries\n",
    "import logging\n",
    "logging.basicConfig(level= logging.INFO,\n",
    "                    filename= 'app.log',\n",
    "                    filemode= 'w',\n",
    "                    format= '%(asctime)s - %(levelname)s - %(message)s', force= True\n",
    "\n",
    ")"
   ]
  },
  {
   "cell_type": "code",
   "execution_count": 2,
   "id": "d1b8e597",
   "metadata": {},
   "outputs": [
    {
     "data": {
      "text/html": [
       "<div>\n",
       "<style scoped>\n",
       "    .dataframe tbody tr th:only-of-type {\n",
       "        vertical-align: middle;\n",
       "    }\n",
       "\n",
       "    .dataframe tbody tr th {\n",
       "        vertical-align: top;\n",
       "    }\n",
       "\n",
       "    .dataframe thead th {\n",
       "        text-align: right;\n",
       "    }\n",
       "</style>\n",
       "<table border=\"1\" class=\"dataframe\">\n",
       "  <thead>\n",
       "    <tr style=\"text-align: right;\">\n",
       "      <th></th>\n",
       "      <th>Building Type</th>\n",
       "      <th>Square Footage</th>\n",
       "      <th>Number of Occupants</th>\n",
       "      <th>Appliances Used</th>\n",
       "      <th>Average Temperature</th>\n",
       "      <th>Day of Week</th>\n",
       "      <th>Energy Consumption</th>\n",
       "    </tr>\n",
       "  </thead>\n",
       "  <tbody>\n",
       "    <tr>\n",
       "      <th>734</th>\n",
       "      <td>Industrial</td>\n",
       "      <td>49768</td>\n",
       "      <td>51</td>\n",
       "      <td>22</td>\n",
       "      <td>34.91</td>\n",
       "      <td>Weekend</td>\n",
       "      <td>5763.85</td>\n",
       "    </tr>\n",
       "    <tr>\n",
       "      <th>829</th>\n",
       "      <td>Industrial</td>\n",
       "      <td>37301</td>\n",
       "      <td>38</td>\n",
       "      <td>35</td>\n",
       "      <td>20.22</td>\n",
       "      <td>Weekday</td>\n",
       "      <td>5393.95</td>\n",
       "    </tr>\n",
       "    <tr>\n",
       "      <th>457</th>\n",
       "      <td>Commercial</td>\n",
       "      <td>2250</td>\n",
       "      <td>11</td>\n",
       "      <td>4</td>\n",
       "      <td>22.11</td>\n",
       "      <td>Weekday</td>\n",
       "      <td>2241.96</td>\n",
       "    </tr>\n",
       "    <tr>\n",
       "      <th>435</th>\n",
       "      <td>Industrial</td>\n",
       "      <td>27089</td>\n",
       "      <td>69</td>\n",
       "      <td>25</td>\n",
       "      <td>29.33</td>\n",
       "      <td>Weekday</td>\n",
       "      <td>4947.78</td>\n",
       "    </tr>\n",
       "    <tr>\n",
       "      <th>946</th>\n",
       "      <td>Commercial</td>\n",
       "      <td>32696</td>\n",
       "      <td>19</td>\n",
       "      <td>37</td>\n",
       "      <td>24.33</td>\n",
       "      <td>Weekend</td>\n",
       "      <td>4443.15</td>\n",
       "    </tr>\n",
       "    <tr>\n",
       "      <th>...</th>\n",
       "      <td>...</td>\n",
       "      <td>...</td>\n",
       "      <td>...</td>\n",
       "      <td>...</td>\n",
       "      <td>...</td>\n",
       "      <td>...</td>\n",
       "      <td>...</td>\n",
       "    </tr>\n",
       "    <tr>\n",
       "      <th>227</th>\n",
       "      <td>Residential</td>\n",
       "      <td>4262</td>\n",
       "      <td>4</td>\n",
       "      <td>38</td>\n",
       "      <td>31.41</td>\n",
       "      <td>Weekday</td>\n",
       "      <td>2406.04</td>\n",
       "    </tr>\n",
       "    <tr>\n",
       "      <th>998</th>\n",
       "      <td>Residential</td>\n",
       "      <td>8348</td>\n",
       "      <td>67</td>\n",
       "      <td>37</td>\n",
       "      <td>16.48</td>\n",
       "      <td>Weekend</td>\n",
       "      <td>3244.98</td>\n",
       "    </tr>\n",
       "    <tr>\n",
       "      <th>26</th>\n",
       "      <td>Residential</td>\n",
       "      <td>35611</td>\n",
       "      <td>8</td>\n",
       "      <td>5</td>\n",
       "      <td>23.67</td>\n",
       "      <td>Weekend</td>\n",
       "      <td>3342.21</td>\n",
       "    </tr>\n",
       "    <tr>\n",
       "      <th>965</th>\n",
       "      <td>Commercial</td>\n",
       "      <td>20991</td>\n",
       "      <td>83</td>\n",
       "      <td>29</td>\n",
       "      <td>31.85</td>\n",
       "      <td>Weekend</td>\n",
       "      <td>4300.28</td>\n",
       "    </tr>\n",
       "    <tr>\n",
       "      <th>638</th>\n",
       "      <td>Commercial</td>\n",
       "      <td>12153</td>\n",
       "      <td>75</td>\n",
       "      <td>23</td>\n",
       "      <td>16.83</td>\n",
       "      <td>Weekend</td>\n",
       "      <td>3733.52</td>\n",
       "    </tr>\n",
       "  </tbody>\n",
       "</table>\n",
       "<p>1000 rows × 7 columns</p>\n",
       "</div>"
      ],
      "text/plain": [
       "    Building Type  Square Footage  Number of Occupants  Appliances Used  \\\n",
       "734    Industrial           49768                   51               22   \n",
       "829    Industrial           37301                   38               35   \n",
       "457    Commercial            2250                   11                4   \n",
       "435    Industrial           27089                   69               25   \n",
       "946    Commercial           32696                   19               37   \n",
       "..            ...             ...                  ...              ...   \n",
       "227   Residential            4262                    4               38   \n",
       "998   Residential            8348                   67               37   \n",
       "26    Residential           35611                    8                5   \n",
       "965    Commercial           20991                   83               29   \n",
       "638    Commercial           12153                   75               23   \n",
       "\n",
       "     Average Temperature Day of Week  Energy Consumption  \n",
       "734                34.91     Weekend             5763.85  \n",
       "829                20.22     Weekday             5393.95  \n",
       "457                22.11     Weekday             2241.96  \n",
       "435                29.33     Weekday             4947.78  \n",
       "946                24.33     Weekend             4443.15  \n",
       "..                   ...         ...                 ...  \n",
       "227                31.41     Weekday             2406.04  \n",
       "998                16.48     Weekend             3244.98  \n",
       "26                 23.67     Weekend             3342.21  \n",
       "965                31.85     Weekend             4300.28  \n",
       "638                16.83     Weekend             3733.52  \n",
       "\n",
       "[1000 rows x 7 columns]"
      ]
     },
     "execution_count": 2,
     "metadata": {},
     "output_type": "execute_result"
    }
   ],
   "source": [
    "# Loading Dataset\n",
    "url = 'https://raw.githubusercontent.com/mukeshmagar543/Energy_ConsumptionMLModel/refs/heads/main/train_energy_data.csv'\n",
    "\n",
    "df = pd.read_csv(url)\n",
    "\n",
    "df.sample(frac= 1) # Shuffle Dataset"
   ]
  },
  {
   "cell_type": "code",
   "execution_count": 3,
   "id": "34dbbb8e",
   "metadata": {},
   "outputs": [
    {
     "name": "stdout",
     "output_type": "stream",
     "text": [
      "<class 'pandas.core.frame.DataFrame'>\n",
      "RangeIndex: 1000 entries, 0 to 999\n",
      "Data columns (total 7 columns):\n",
      " #   Column               Non-Null Count  Dtype  \n",
      "---  ------               --------------  -----  \n",
      " 0   Building Type        1000 non-null   object \n",
      " 1   Square Footage       1000 non-null   int64  \n",
      " 2   Number of Occupants  1000 non-null   int64  \n",
      " 3   Appliances Used      1000 non-null   int64  \n",
      " 4   Average Temperature  1000 non-null   float64\n",
      " 5   Day of Week          1000 non-null   object \n",
      " 6   Energy Consumption   1000 non-null   float64\n",
      "dtypes: float64(2), int64(3), object(2)\n",
      "memory usage: 54.8+ KB\n"
     ]
    }
   ],
   "source": [
    "df.info()"
   ]
  },
  {
   "cell_type": "code",
   "execution_count": 5,
   "id": "0678d8a1",
   "metadata": {},
   "outputs": [
    {
     "data": {
      "text/html": [
       "<div>\n",
       "<style scoped>\n",
       "    .dataframe tbody tr th:only-of-type {\n",
       "        vertical-align: middle;\n",
       "    }\n",
       "\n",
       "    .dataframe tbody tr th {\n",
       "        vertical-align: top;\n",
       "    }\n",
       "\n",
       "    .dataframe thead th {\n",
       "        text-align: right;\n",
       "    }\n",
       "</style>\n",
       "<table border=\"1\" class=\"dataframe\">\n",
       "  <thead>\n",
       "    <tr style=\"text-align: right;\">\n",
       "      <th></th>\n",
       "      <th>Feature</th>\n",
       "      <th>Minimum</th>\n",
       "      <th>Maximum</th>\n",
       "      <th>Mean</th>\n",
       "      <th>Median</th>\n",
       "      <th>25%</th>\n",
       "      <th>75%</th>\n",
       "      <th>Kurtosis</th>\n",
       "      <th>Skewness</th>\n",
       "      <th>Standard Deviation</th>\n",
       "    </tr>\n",
       "  </thead>\n",
       "  <tbody>\n",
       "    <tr>\n",
       "      <th>0</th>\n",
       "      <td>Square Footage</td>\n",
       "      <td>560.00</td>\n",
       "      <td>49997.00</td>\n",
       "      <td>25462.38800</td>\n",
       "      <td>25477.000</td>\n",
       "      <td>13169.7500</td>\n",
       "      <td>37446.25</td>\n",
       "      <td>-1.175406</td>\n",
       "      <td>0.009313</td>\n",
       "      <td>14294.554000</td>\n",
       "    </tr>\n",
       "    <tr>\n",
       "      <th>1</th>\n",
       "      <td>Number of Occupants</td>\n",
       "      <td>1.00</td>\n",
       "      <td>99.00</td>\n",
       "      <td>48.37200</td>\n",
       "      <td>47.000</td>\n",
       "      <td>22.0000</td>\n",
       "      <td>73.25</td>\n",
       "      <td>-1.241970</td>\n",
       "      <td>0.089302</td>\n",
       "      <td>29.061972</td>\n",
       "    </tr>\n",
       "    <tr>\n",
       "      <th>2</th>\n",
       "      <td>Appliances Used</td>\n",
       "      <td>1.00</td>\n",
       "      <td>49.00</td>\n",
       "      <td>25.60600</td>\n",
       "      <td>26.000</td>\n",
       "      <td>13.0000</td>\n",
       "      <td>38.00</td>\n",
       "      <td>-1.196605</td>\n",
       "      <td>-0.037392</td>\n",
       "      <td>14.105166</td>\n",
       "    </tr>\n",
       "    <tr>\n",
       "      <th>3</th>\n",
       "      <td>Average Temperature</td>\n",
       "      <td>10.05</td>\n",
       "      <td>34.99</td>\n",
       "      <td>22.61139</td>\n",
       "      <td>22.815</td>\n",
       "      <td>16.4750</td>\n",
       "      <td>28.85</td>\n",
       "      <td>-1.180404</td>\n",
       "      <td>-0.040406</td>\n",
       "      <td>7.139943</td>\n",
       "    </tr>\n",
       "    <tr>\n",
       "      <th>4</th>\n",
       "      <td>Energy Consumption</td>\n",
       "      <td>1683.95</td>\n",
       "      <td>6530.60</td>\n",
       "      <td>4166.25257</td>\n",
       "      <td>4175.730</td>\n",
       "      <td>3509.4825</td>\n",
       "      <td>4863.85</td>\n",
       "      <td>-0.575224</td>\n",
       "      <td>-0.046241</td>\n",
       "      <td>933.313064</td>\n",
       "    </tr>\n",
       "  </tbody>\n",
       "</table>\n",
       "</div>"
      ],
      "text/plain": [
       "               Feature  Minimum   Maximum         Mean     Median         25%  \\\n",
       "0       Square Footage   560.00  49997.00  25462.38800  25477.000  13169.7500   \n",
       "1  Number of Occupants     1.00     99.00     48.37200     47.000     22.0000   \n",
       "2      Appliances Used     1.00     49.00     25.60600     26.000     13.0000   \n",
       "3  Average Temperature    10.05     34.99     22.61139     22.815     16.4750   \n",
       "4   Energy Consumption  1683.95   6530.60   4166.25257   4175.730   3509.4825   \n",
       "\n",
       "        75%  Kurtosis  Skewness  Standard Deviation  \n",
       "0  37446.25 -1.175406  0.009313        14294.554000  \n",
       "1     73.25 -1.241970  0.089302           29.061972  \n",
       "2     38.00 -1.196605 -0.037392           14.105166  \n",
       "3     28.85 -1.180404 -0.040406            7.139943  \n",
       "4   4863.85 -0.575224 -0.046241          933.313064  "
      ]
     },
     "execution_count": 5,
     "metadata": {},
     "output_type": "execute_result"
    }
   ],
   "source": [
    "# Doing Univariate Analysis\n",
    "from collections import OrderedDict\n",
    "\n",
    "stats = []\n",
    "\n",
    "for i in df.columns:\n",
    "    if df[i].dtype != 'object':\n",
    "        numerical_stats = OrderedDict ({\n",
    "            'Feature' : i,\n",
    "            'Minimum' : df[i].min(),\n",
    "            'Maximum' : df[i].max(),\n",
    "            'Mean' : df[i].mean(),\n",
    "            'Median' : df[i].median(),\n",
    "            '25%' : df[i].quantile(0.25),\n",
    "            '75%' : df[i].quantile(0.75),\n",
    "            'Kurtosis' : df[i].kurt(),\n",
    "            \"Skewness\" : df[i].skew(),\n",
    "            'Standard Deviation' : df[i].std()\n",
    "        })\n",
    "\n",
    "        stats.append(numerical_stats)\n",
    "        report = pd.DataFrame(stats)\n",
    "\n",
    "report"
   ]
  },
  {
   "cell_type": "code",
   "execution_count": null,
   "id": "bd699a95",
   "metadata": {},
   "outputs": [
    {
     "data": {
      "text/plain": [
       "Building Type          0\n",
       "Square Footage         0\n",
       "Number of Occupants    0\n",
       "Appliances Used        0\n",
       "Average Temperature    0\n",
       "Day of Week            0\n",
       "Energy Consumption     0\n",
       "dtype: int64"
      ]
     },
     "execution_count": 6,
     "metadata": {},
     "output_type": "execute_result"
    }
   ],
   "source": [
    "# Finding Null Values\n",
    "df.isnull().sum()"
   ]
  },
  {
   "cell_type": "code",
   "execution_count": 13,
   "id": "239fa9a4",
   "metadata": {},
   "outputs": [
    {
     "data": {
      "text/plain": [
       "Day of Week\n",
       "0    507\n",
       "1    493\n",
       "Name: count, dtype: int64"
      ]
     },
     "execution_count": 13,
     "metadata": {},
     "output_type": "execute_result"
    }
   ],
   "source": [
    "df['Day of Week'].value_counts()"
   ]
  },
  {
   "cell_type": "code",
   "execution_count": 12,
   "id": "c019a81d",
   "metadata": {},
   "outputs": [],
   "source": [
    "# Chenging categorical data into numerical by replacing 0 and 1\n",
    "df['Day of Week'] = df['Day of Week'].replace({'Weekday' : 0, 'Weekend' : 1})"
   ]
  },
  {
   "cell_type": "code",
   "execution_count": 14,
   "id": "df85525b",
   "metadata": {},
   "outputs": [],
   "source": [
    "# Chenging categorical data into numerical by Label Encoding\n",
    "from sklearn.preprocessing import LabelEncoder\n",
    "le =  LabelEncoder()\n",
    "df['Building Type'] = le.fit_transform(df['Building Type'])"
   ]
  },
  {
   "cell_type": "code",
   "execution_count": 16,
   "id": "4ed28986",
   "metadata": {},
   "outputs": [
    {
     "data": {
      "image/png": "[encoded data removed]",
      "text/plain": [
       "<Figure size 1200x600 with 1 Axes>"
      ]
     },
     "metadata": {},
     "output_type": "display_data"
    }
   ],
   "source": [
    "plt.figure(figsize=(12, 6))\n",
    "sns.boxplot(data=df)\n",
    "plt.xticks(rotation=45) # Rotate x-axis labels for better readability\n",
    "plt.title('Boxen plot housing')\n",
    "plt.show()"
   ]
  },
  {
   "cell_type": "code",
   "execution_count": 17,
   "id": "65a038f6",
   "metadata": {},
   "outputs": [],
   "source": [
    "# Splitting Data\n",
    "X = df.drop(columns= 'Energy Consumption') \n",
    "y = df['Energy Consumption']  # Target Column\n",
    "\n",
    "from sklearn.model_selection import train_test_split\n",
    "\n",
    "X_train, X_test, y_train, y_test = train_test_split(X,y,test_size= 0.20, random_state= 42)\n",
    "\n",
    "from sklearn.preprocessing import StandardScaler\n",
    "\n",
    "scalar = StandardScaler()\n",
    "\n",
    "X_train = scalar.fit_transform(X_train)\n",
    "X_test = scalar.transform(X_test)\n"
   ]
  },
  {
   "cell_type": "markdown",
   "id": "5c10c903",
   "metadata": {},
   "source": [
    "# **Algorithms**"
   ]
  },
  {
   "cell_type": "code",
   "execution_count": 19,
   "id": "58b94599",
   "metadata": {},
   "outputs": [
    {
     "data": {
      "text/plain": [
       "0.8451931910305854"
      ]
     },
     "execution_count": 19,
     "metadata": {},
     "output_type": "execute_result"
    }
   ],
   "source": [
    "# Applying Linear Regression\n",
    "from sklearn.linear_model import LinearRegression\n",
    "\n",
    "LR = LinearRegression()\n",
    "\n",
    "LR.fit(X_train,y_train)\n",
    "\n",
    "y_pred_LR = LR.predict(X_test)\n",
    "\n",
    "from sklearn.metrics import r2_score\n",
    "\n",
    "r2_score_LR = r2_score(y_test,y_pred_LR)\n",
    "\n",
    "r2_score_LR"
   ]
  },
  {
   "cell_type": "code",
   "execution_count": 20,
   "id": "a3286b2e",
   "metadata": {},
   "outputs": [
    {
     "data": {
      "text/plain": [
       "0.9198704280095784"
      ]
     },
     "execution_count": 20,
     "metadata": {},
     "output_type": "execute_result"
    }
   ],
   "source": [
    "# Applying Decision tree Regresssor\n",
    "from sklearn.tree import DecisionTreeRegressor\n",
    "\n",
    "DT = DecisionTreeRegressor()\n",
    "\n",
    "DT.fit(X_train,y_train)\n",
    "\n",
    "y_pred_DT = DT.predict(X_test)\n",
    "\n",
    "r2_score_DT = r2_score(y_test,y_pred_DT)\n",
    "\n",
    "r2_score_DT"
   ]
  },
  {
   "cell_type": "code",
   "execution_count": 21,
   "id": "32e18777",
   "metadata": {},
   "outputs": [
    {
     "data": {
      "text/plain": [
       "0.9768725684263677"
      ]
     },
     "execution_count": 21,
     "metadata": {},
     "output_type": "execute_result"
    }
   ],
   "source": [
    "# Applying Random Forest Regressor\n",
    "from sklearn.ensemble import RandomForestRegressor\n",
    "\n",
    "RF = RandomForestRegressor()\n",
    "\n",
    "RF.fit(X_train,y_train)\n",
    "\n",
    "y_pred_RF = RF.predict(X_test)\n",
    "\n",
    "r2_score_RF = r2_score(y_test,y_pred_RF)\n",
    "\n",
    "r2_score_RF"
   ]
  }
 ],
 "metadata": {
  "kernelspec": {
   "display_name": "base",
   "language": "python",
   "name": "python3"
  },
  "language_info": {
   "codemirror_mode": {
    "name": "ipython",
    "version": 3
   },
   "file_extension": ".py",
   "mimetype": "text/x-python",
   "name": "python",
   "nbconvert_exporter": "python",
   "pygments_lexer": "ipython3",
   "version": "3.11.11"
  }
 },
 "nbformat": 4,
 "nbformat_minor": 5
}
